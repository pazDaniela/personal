{
 "cells": [
  {
   "cell_type": "markdown",
   "metadata": {},
   "source": [
    "### Modelo  de Matérn Multivariado\n",
    "- Covarianza Marginal\n",
    "\n",
    "$$ C_{ii}=\\sigma_{i}^2 M(h|v_i,a_i)   i=1,...,p $$\n",
    "\n",
    "- varianza $\\sigma_i^2$\n",
    "- parametro de suavidad v_i y parametro de escala a_i\n",
    "\n",
    "#### Correlación Espacial\n",
    "\n",
    "$$M(h|v_i,a_i)=\\frac{2^{1-v_i}}{\\Gamma(v_i)}(a_i||h||)^{v_i}K_{v_i}(a_i||h||)$$\n",
    "\n",
    "de donde $K_{v_i}$ es una función de Bassel modificada de segundo tipo.\n",
    "\n",
    "Sean x,y $\\in \\mathbb{R}^N_+$ dos imagenes las cuales se dividen en $n$ sub-imagenes  de tamaño $k\\times k$ denotadas por $x_i$ e $y_i$, restrigiendo las sub-images que cumplan $s(x_i,y_i)>0$\n",
    "\n",
    "$$ \\log (Z_i)=\\alpha \\log(\\ell_i)+\\beta \\log(c_i)+\\gamma \\log(s_i)+\\mu_i  i=1,...,n$$\n"
   ]
  }
 ],
 "metadata": {
  "kernelspec": {
   "display_name": "Python 3",
   "language": "python",
   "name": "python3"
  },
  "language_info": {
   "codemirror_mode": {
    "name": "ipython",
    "version": 3
   },
   "file_extension": ".py",
   "mimetype": "text/x-python",
   "name": "python",
   "nbconvert_exporter": "python",
   "pygments_lexer": "ipython3",
   "version": "3.7.9"
  }
 },
 "nbformat": 4,
 "nbformat_minor": 4
}
